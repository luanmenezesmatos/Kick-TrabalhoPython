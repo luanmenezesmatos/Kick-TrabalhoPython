{
 "cells": [
  {
   "cell_type": "markdown",
   "metadata": {},
   "source": [
    "### Script - Microdados da Educação Superior 2020"
   ]
  },
  {
   "cell_type": "markdown",
   "metadata": {},
   "source": [
    "Importando as bibliotecas a serem utilizadas neste projeto. Primeiramente, importaremos as bibliotecas **pandas**, **matplotlib** e **os**. Em seguida, faremos a leitura do dataset."
   ]
  },
  {
   "cell_type": "markdown",
   "metadata": {},
   "source": [
    "**Introdução ao Pandas:** Pandas é uma biblioteca para Ciência de Dados de código aberto (open source), construída sobre a linguagem Python, e que providencia uma abordagem rápida e flexível, com estruturas robustas para se trabalhar com dados relacionais (ou rotulados), e tudo isso de maneira simples e intuitiva.\n",
    "\n",
    "**Introdução ao Matplotlib:** Matplotlib é uma biblioteca compreensiva para criação de visualizações estáticas, animadas, e interativas em Python. Para mais informações sobre essa tecnologia, acesse a documentação MatPlotlib.\n",
    "\n",
    "**Introdução ao OS:** Biblioteca de comandos do sistema operacional que irá auxiliar a fazer algumas operações dentro do computador."
   ]
  },
  {
   "cell_type": "code",
   "execution_count": 189,
   "metadata": {},
   "outputs": [],
   "source": [
    "import pandas as pd\n",
    "from matplotlib import pyplot as plt\n",
    "import os"
   ]
  },
  {
   "cell_type": "code",
   "execution_count": 190,
   "metadata": {},
   "outputs": [
    {
     "data": {
      "text/html": [
       "<div>\n",
       "<style scoped>\n",
       "    .dataframe tbody tr th:only-of-type {\n",
       "        vertical-align: middle;\n",
       "    }\n",
       "\n",
       "    .dataframe tbody tr th {\n",
       "        vertical-align: top;\n",
       "    }\n",
       "\n",
       "    .dataframe thead th {\n",
       "        text-align: right;\n",
       "    }\n",
       "</style>\n",
       "<table border=\"1\" class=\"dataframe\">\n",
       "  <thead>\n",
       "    <tr style=\"text-align: right;\">\n",
       "      <th></th>\n",
       "      <th>NU_ANO_CENSO</th>\n",
       "      <th>NO_REGIAO_IES</th>\n",
       "      <th>CO_REGIAO_IES</th>\n",
       "      <th>NO_UF_IES</th>\n",
       "      <th>SG_UF_IES</th>\n",
       "      <th>CO_UF_IES</th>\n",
       "      <th>NO_MUNICIPIO_IES</th>\n",
       "      <th>CO_MUNICIPIO_IES</th>\n",
       "      <th>IN_CAPITAL_IES</th>\n",
       "      <th>NO_MESORREGIAO_IES</th>\n",
       "      <th>...</th>\n",
       "      <th>DOC_EX_60_MAIS</th>\n",
       "      <th>DOC_EX_BRANCA</th>\n",
       "      <th>DOC_EX_PRETA</th>\n",
       "      <th>DOC_EX_PARDA</th>\n",
       "      <th>DOC_EX_AMARELA</th>\n",
       "      <th>DOC_EX_INDÍGENA</th>\n",
       "      <th>DOC_EX_COR_ND</th>\n",
       "      <th>DOC_EX_BRA</th>\n",
       "      <th>DOC_EX_EST</th>\n",
       "      <th>DOC_EX_COM_DEFICIÊNCIA</th>\n",
       "    </tr>\n",
       "  </thead>\n",
       "  <tbody>\n",
       "    <tr>\n",
       "      <th>0</th>\n",
       "      <td>2020</td>\n",
       "      <td>Norte</td>\n",
       "      <td>1</td>\n",
       "      <td>Rondônia</td>\n",
       "      <td>RO</td>\n",
       "      <td>11</td>\n",
       "      <td>Ariquemes</td>\n",
       "      <td>1100023</td>\n",
       "      <td>0</td>\n",
       "      <td>Leste Rondoniense</td>\n",
       "      <td>...</td>\n",
       "      <td>2</td>\n",
       "      <td>18</td>\n",
       "      <td>1</td>\n",
       "      <td>8</td>\n",
       "      <td>0</td>\n",
       "      <td>0</td>\n",
       "      <td>27</td>\n",
       "      <td>54</td>\n",
       "      <td>0</td>\n",
       "      <td>0</td>\n",
       "    </tr>\n",
       "    <tr>\n",
       "      <th>1</th>\n",
       "      <td>2020</td>\n",
       "      <td>Norte</td>\n",
       "      <td>1</td>\n",
       "      <td>Rondônia</td>\n",
       "      <td>RO</td>\n",
       "      <td>11</td>\n",
       "      <td>Ariquemes</td>\n",
       "      <td>1100023</td>\n",
       "      <td>0</td>\n",
       "      <td>Leste Rondoniense</td>\n",
       "      <td>...</td>\n",
       "      <td>3</td>\n",
       "      <td>45</td>\n",
       "      <td>5</td>\n",
       "      <td>17</td>\n",
       "      <td>2</td>\n",
       "      <td>0</td>\n",
       "      <td>0</td>\n",
       "      <td>67</td>\n",
       "      <td>2</td>\n",
       "      <td>0</td>\n",
       "    </tr>\n",
       "    <tr>\n",
       "      <th>2</th>\n",
       "      <td>2020</td>\n",
       "      <td>Norte</td>\n",
       "      <td>1</td>\n",
       "      <td>Rondônia</td>\n",
       "      <td>RO</td>\n",
       "      <td>11</td>\n",
       "      <td>Cacoal</td>\n",
       "      <td>1100049</td>\n",
       "      <td>0</td>\n",
       "      <td>Leste Rondoniense</td>\n",
       "      <td>...</td>\n",
       "      <td>9</td>\n",
       "      <td>114</td>\n",
       "      <td>2</td>\n",
       "      <td>31</td>\n",
       "      <td>2</td>\n",
       "      <td>0</td>\n",
       "      <td>3</td>\n",
       "      <td>152</td>\n",
       "      <td>0</td>\n",
       "      <td>0</td>\n",
       "    </tr>\n",
       "    <tr>\n",
       "      <th>3</th>\n",
       "      <td>2020</td>\n",
       "      <td>Norte</td>\n",
       "      <td>1</td>\n",
       "      <td>Rondônia</td>\n",
       "      <td>RO</td>\n",
       "      <td>11</td>\n",
       "      <td>Cacoal</td>\n",
       "      <td>1100049</td>\n",
       "      <td>0</td>\n",
       "      <td>Leste Rondoniense</td>\n",
       "      <td>...</td>\n",
       "      <td>1</td>\n",
       "      <td>30</td>\n",
       "      <td>1</td>\n",
       "      <td>4</td>\n",
       "      <td>0</td>\n",
       "      <td>0</td>\n",
       "      <td>4</td>\n",
       "      <td>39</td>\n",
       "      <td>0</td>\n",
       "      <td>0</td>\n",
       "    </tr>\n",
       "    <tr>\n",
       "      <th>4</th>\n",
       "      <td>2020</td>\n",
       "      <td>Norte</td>\n",
       "      <td>1</td>\n",
       "      <td>Rondônia</td>\n",
       "      <td>RO</td>\n",
       "      <td>11</td>\n",
       "      <td>Cacoal</td>\n",
       "      <td>1100049</td>\n",
       "      <td>0</td>\n",
       "      <td>Leste Rondoniense</td>\n",
       "      <td>...</td>\n",
       "      <td>0</td>\n",
       "      <td>14</td>\n",
       "      <td>0</td>\n",
       "      <td>7</td>\n",
       "      <td>0</td>\n",
       "      <td>0</td>\n",
       "      <td>18</td>\n",
       "      <td>39</td>\n",
       "      <td>0</td>\n",
       "      <td>0</td>\n",
       "    </tr>\n",
       "  </tbody>\n",
       "</table>\n",
       "<p>5 rows × 81 columns</p>\n",
       "</div>"
      ],
      "text/plain": [
       "   NU_ANO_CENSO NO_REGIAO_IES  CO_REGIAO_IES NO_UF_IES SG_UF_IES  CO_UF_IES  \\\n",
       "0          2020         Norte              1  Rondônia        RO         11   \n",
       "1          2020         Norte              1  Rondônia        RO         11   \n",
       "2          2020         Norte              1  Rondônia        RO         11   \n",
       "3          2020         Norte              1  Rondônia        RO         11   \n",
       "4          2020         Norte              1  Rondônia        RO         11   \n",
       "\n",
       "  NO_MUNICIPIO_IES  CO_MUNICIPIO_IES  IN_CAPITAL_IES NO_MESORREGIAO_IES  ...  \\\n",
       "0        Ariquemes           1100023               0  Leste Rondoniense  ...   \n",
       "1        Ariquemes           1100023               0  Leste Rondoniense  ...   \n",
       "2           Cacoal           1100049               0  Leste Rondoniense  ...   \n",
       "3           Cacoal           1100049               0  Leste Rondoniense  ...   \n",
       "4           Cacoal           1100049               0  Leste Rondoniense  ...   \n",
       "\n",
       "   DOC_EX_60_MAIS DOC_EX_BRANCA  DOC_EX_PRETA  DOC_EX_PARDA  DOC_EX_AMARELA  \\\n",
       "0               2            18             1             8               0   \n",
       "1               3            45             5            17               2   \n",
       "2               9           114             2            31               2   \n",
       "3               1            30             1             4               0   \n",
       "4               0            14             0             7               0   \n",
       "\n",
       "  DOC_EX_INDÍGENA  DOC_EX_COR_ND DOC_EX_BRA DOC_EX_EST  DOC_EX_COM_DEFICIÊNCIA  \n",
       "0               0             27         54          0                       0  \n",
       "1               0              0         67          2                       0  \n",
       "2               0              3        152          0                       0  \n",
       "3               0              4         39          0                       0  \n",
       "4               0             18         39          0                       0  \n",
       "\n",
       "[5 rows x 81 columns]"
      ]
     },
     "execution_count": 190,
     "metadata": {},
     "output_type": "execute_result"
    }
   ],
   "source": [
    "ies_df = pd.read_csv((os.getcwd() + \"/arquivosExcel/CADASTRO_IES_2020.CSV\"),\n",
    "                     encoding='ISO-8859-1', sep=';', low_memory=False)\n",
    "# os.getcwd() para pegar o caminho do diretório atual\n",
    "# encoding='ISO-8859-1' para não dar erro de encoding\n",
    "# sep=';' para separar por ponto e vírgula\n",
    "# low_memory=False para não dar erro de memória - não é recomendado para arquivos muito grandes\n",
    "\n",
    "ies_df.head() # Exibindo as 5 primeiras linhas do dataframe para verificar se ocorreu tudo bem com a importação/leitura"
   ]
  },
  {
   "cell_type": "markdown",
   "metadata": {},
   "source": [
    "Começando a fazer os gráficos, agrupando os dados de acordo com os funcionários inscritos por região, docentes de diferentes etnias, gêneros e portadores de deficiências."
   ]
  },
  {
   "cell_type": "code",
   "execution_count": 191,
   "metadata": {},
   "outputs": [
    {
     "name": "stdout",
     "output_type": "stream",
     "text": [
      "['Norte' 'Nordeste' 'Sudeste' 'Sul' 'Centro-Oeste']\n"
     ]
    }
   ],
   "source": [
    "regioes = ies_df['NO_REGIAO_IES'].unique() # Pegando as regiões do dataframe\n",
    "\n",
    "print(regioes) # Exibindo as regiões"
   ]
  },
  {
   "cell_type": "markdown",
   "metadata": {},
   "source": [
    "Código para gerar cores aleatórias para as regiões descritas acima, com o objetivo de deixar os gráficos mais dinâmicos."
   ]
  },
  {
   "cell_type": "code",
   "execution_count": 192,
   "metadata": {},
   "outputs": [
    {
     "name": "stdout",
     "output_type": "stream",
     "text": [
      "{'Norte': 'gray', 'Nordeste': 'black', 'Sudeste': 'blue', 'Sul': 'green', 'Centro-Oeste': 'red'}\n"
     ]
    }
   ],
   "source": [
    "import random # Importando a biblioteca random\n",
    "\n",
    "# Dicionário de cores aleatórias para as regiões\n",
    "regioesCores = {}\n",
    "\n",
    "# Cores disponíveis para escolha aleatória\n",
    "coresDisponiveis = ['red', 'blue', 'black', 'green', 'gray']\n",
    "\n",
    "# Iterando sobre as regiões e atribuindo cores aleatórias\n",
    "for regiao in regioes:\n",
    "  if coresDisponiveis:\n",
    "    cor = random.choice(coresDisponiveis)\n",
    "    regioesCores[regiao] = cor\n",
    "    coresDisponiveis.remove(cor)\n",
    "\n",
    "# Exibindo o dicionário de cores\n",
    "print(regioesCores)"
   ]
  },
  {
   "cell_type": "markdown",
   "metadata": {},
   "source": [
    "**VERIFICAR DEPOIS**"
   ]
  },
  {
   "cell_type": "code",
   "execution_count": 193,
   "metadata": {},
   "outputs": [
    {
     "name": "stderr",
     "output_type": "stream",
     "text": [
      "No artists with labels found to put in legend.  Note that artists whose label start with an underscore are ignored when legend() is called with no argument.\n"
     ]
    },
    {
     "data": {
      "image/png": "[encoded data removed]",
      "text/plain": [
       "<Figure size 1500x500 with 1 Axes>"
      ]
     },
     "metadata": {},
     "output_type": "display_data"
    }
   ],
   "source": [
    "# Definindo tamanho do gráfico\n",
    "plt.figure(figsize=(15, 5))\n",
    "\n",
    "# Agrupar por região e somar a quantidade de técnicos\n",
    "dataAgrupado = ies_df.groupby('NO_REGIAO_IES')['QT_TEC_TOTAL'].sum()\n",
    "\n",
    "# Itera sobre cada região presente no dataframe filtrado\n",
    "for regiao, data in ies_df.groupby('NO_REGIAO_IES')['QT_TEC_TOTAL']:\n",
    "  # Plota o gráfico de barras\n",
    "  plt.plot(data.index, data.values, color=regioesCores[regiao])\n",
    "\n",
    "# Personalizando o gráfico\n",
    "plt.xlabel('Legenda na Esquerda')\n",
    "plt.ylabel('Legenda em Baixo')\n",
    "plt.title('Título')\n",
    "plt.legend()\n",
    "plt.grid(True)\n",
    "\n",
    "plt.show()"
   ]
  }
 ],
 "metadata": {
  "kernelspec": {
   "display_name": "Python 3",
   "language": "python",
   "name": "python3"
  },
  "language_info": {
   "codemirror_mode": {
    "name": "ipython",
    "version": 3
   },
   "file_extension": ".py",
   "mimetype": "text/x-python",
   "name": "python",
   "nbconvert_exporter": "python",
   "pygments_lexer": "ipython3",
   "version": "3.11.5"
  },
  "orig_nbformat": 4
 },
 "nbformat": 4,
 "nbformat_minor": 2
}
