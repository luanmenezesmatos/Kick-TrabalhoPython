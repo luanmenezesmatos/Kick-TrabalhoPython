{
 "cells": [
  {
   "cell_type": "markdown",
   "metadata": {},
   "source": [
    "### Script - Microdados da Educação Superior 2020"
   ]
  },
  {
   "cell_type": "markdown",
   "metadata": {},
   "source": [
    "Importando as bibliotecas a serem utilizadas neste projeto. Primeiramente, importaremos as bibliotecas **pandas**, **matplotlib** e **os**. Em seguida, faremos a leitura do dataset."
   ]
  },
  {
   "cell_type": "markdown",
   "metadata": {},
   "source": [
    "**Introdução ao Pandas:** Pandas é uma biblioteca para Ciência de Dados de código aberto (open source), construída sobre a linguagem Python, e que providencia uma abordagem rápida e flexível, com estruturas robustas para se trabalhar com dados relacionais (ou rotulados), e tudo isso de maneira simples e intuitiva.\n",
    "\n",
    "**Introdução ao Matplotlib:** Matplotlib é uma biblioteca compreensiva para criação de visualizações estáticas, animadas, e interativas em Python. Para mais informações sobre essa tecnologia, acesse a documentação MatPlotlib.\n",
    "\n",
    "**Introdução ao OS:** Biblioteca de comandos do sistema operacional que irá auxiliar a fazer algumas operações dentro do computador."
   ]
  },
  {
   "cell_type": "code",
   "execution_count": 177,
   "metadata": {},
   "outputs": [],
   "source": [
    "import pandas as pd\n",
    "from matplotlib import pyplot as plt\n",
    "import seaborn as sns\n",
    "import os"
   ]
  },
  {
   "cell_type": "code",
   "execution_count": 182,
   "metadata": {},
   "outputs": [
    {
     "data": {
      "text/plain": [
       "['NU_ANO_CENSO',\n",
       " 'NO_REGIAO_IES',\n",
       " 'CO_REGIAO_IES',\n",
       " 'NO_UF_IES',\n",
       " 'SG_UF_IES',\n",
       " 'CO_UF_IES',\n",
       " 'NO_MUNICIPIO_IES',\n",
       " 'CO_MUNICIPIO_IES',\n",
       " 'IN_CAPITAL_IES',\n",
       " 'NO_MESORREGIAO_IES',\n",
       " 'CO_MESORREGIAO_IES',\n",
       " 'NO_MICRORREGIAO_IES',\n",
       " 'CO_MICRORREGIAO_IES',\n",
       " 'TP_ORGANIZACAO_ACADEMICA',\n",
       " 'TP_CATEGORIA_ADMINISTRATIVA',\n",
       " 'NO_MANTENEDORA',\n",
       " 'CO_MANTENEDORA',\n",
       " 'NO_IES',\n",
       " 'SG_IES',\n",
       " 'CO_IES',\n",
       " 'DS_ENDERECO_IES',\n",
       " 'DS_NUMERO_ENDERECO_IES',\n",
       " 'DS_COMPLEMENTO_ENDERECO_IES',\n",
       " 'NO_BAIRRO_IES',\n",
       " 'NU_CEP_IES',\n",
       " 'QT_TEC_TOTAL',\n",
       " 'QT_TEC_FUNDAMENTAL_INCOMP_FEM',\n",
       " 'QT_TEC_FUNDAMENTAL_INCOMP_MASC',\n",
       " 'QT_TEC_FUNDAMENTAL_COMP_FEM',\n",
       " 'QT_TEC_FUNDAMENTAL_COMP_MASC',\n",
       " 'QT_TEC_MEDIO_FEM',\n",
       " 'QT_TEC_MEDIO_MASC',\n",
       " 'QT_TEC_SUPERIOR_FEM',\n",
       " 'QT_TEC_SUPERIOR_MASC',\n",
       " 'QT_TEC_ESPECIALIZACAO_FEM',\n",
       " 'QT_TEC_ESPECIALIZACAO_MASC',\n",
       " 'QT_TEC_MESTRADO_FEM',\n",
       " 'QT_TEC_MESTRADO_MASC',\n",
       " 'QT_TEC_DOUTORADO_FEM',\n",
       " 'QT_TEC_DOUTORADO_MASC',\n",
       " 'IN_ACESSO_PORTAL_CAPES',\n",
       " 'IN_ACESSO_OUTRAS_BASES',\n",
       " 'IN_ASSINA_OUTRA_BASE',\n",
       " 'IN_REPOSITORIO_INSTITUCIONAL',\n",
       " 'IN_BUSCA_INTEGRADA',\n",
       " 'IN_SERVICO_INTERNET',\n",
       " 'IN_PARTICIPA_REDE_SOCIAL',\n",
       " 'IN_CATALOGO_ONLINE',\n",
       " 'QT_PERIODICO_ELETRONICO',\n",
       " 'QT_LIVRO_ELETRONICO',\n",
       " 'QT_DOCENTE_TOTAL',\n",
       " 'QT_DOCENTE_EXE',\n",
       " 'DOC_EX_FEMI',\n",
       " 'DOC_EX_MASC',\n",
       " 'DOC_EX_SEM_GRAD',\n",
       " 'DOC_EX_GRAD',\n",
       " 'DOC_EX_ESP',\n",
       " 'DOC_EX_MEST',\n",
       " 'DOC_EX_DOUT',\n",
       " 'DOC_EX_INT',\n",
       " 'DOC_EX_INT_DE',\n",
       " 'DOC_EX_INT_SEM_DE',\n",
       " 'DOC_EX_PARC',\n",
       " 'DOC_EX_HOR',\n",
       " 'DOC_EX_0_29',\n",
       " 'DOC_EX_30_34',\n",
       " 'DOC_EX_35_39',\n",
       " 'DOC_EX_40_44',\n",
       " 'DOC_EX_45_49',\n",
       " 'DOC_EX_50_54',\n",
       " 'DOC_EX_55_59',\n",
       " 'DOC_EX_60_MAIS',\n",
       " 'DOC_EX_BRANCA',\n",
       " 'DOC_EX_PRETA',\n",
       " 'DOC_EX_PARDA',\n",
       " 'DOC_EX_AMARELA',\n",
       " 'DOC_EX_INDÍGENA',\n",
       " 'DOC_EX_COR_ND',\n",
       " 'DOC_EX_BRA',\n",
       " 'DOC_EX_EST',\n",
       " 'DOC_EX_COM_DEFICIÊNCIA']"
      ]
     },
     "execution_count": 182,
     "metadata": {},
     "output_type": "execute_result"
    }
   ],
   "source": [
    "ies_df = pd.read_csv((os.getcwd() + \"/arquivosExcel/CADASTRO_IES_2020.CSV\"),\n",
    "                     encoding='ISO-8859-1', sep=';', low_memory=False)\n",
    "# os.getcwd() para pegar o caminho do diretório atual\n",
    "# encoding='ISO-8859-1' para não dar erro de encoding\n",
    "# sep=';' para separar por ponto e vírgula\n",
    "# low_memory=False para não dar erro de memória - não é recomendado para arquivos muito grandes\n",
    "\n",
    "ies_df.head() # Exibindo as 5 primeiras linhas do dataframe para verificar se ocorreu tudo bem com a importação/leitura\n",
    "\n",
    "# ies_df.columns.to_list() # Exibindo as colunas do dataframe"
   ]
  },
  {
   "cell_type": "markdown",
   "metadata": {},
   "source": [
    "Começando a fazer os gráficos, agrupando os dados de acordo com os funcionários inscritos por região, docentes de diferentes etnias, gêneros e portadores de deficiências."
   ]
  },
  {
   "cell_type": "code",
   "execution_count": 179,
   "metadata": {},
   "outputs": [
    {
     "name": "stdout",
     "output_type": "stream",
     "text": [
      "['Norte' 'Nordeste' 'Sudeste' 'Sul' 'Centro-Oeste']\n"
     ]
    }
   ],
   "source": [
    "regioes = ies_df['NO_REGIAO_IES'].unique() # Pegando as regiões do dataframe\n",
    "\n",
    "print(regioes) # Exibindo as regiões"
   ]
  },
  {
   "cell_type": "markdown",
   "metadata": {},
   "source": [
    "Código para gerar cores aleatórias para as regiões descritas acima, com o objetivo de deixar os gráficos mais dinâmicos."
   ]
  },
  {
   "cell_type": "code",
   "execution_count": 180,
   "metadata": {},
   "outputs": [
    {
     "name": "stdout",
     "output_type": "stream",
     "text": [
      "{'Norte': 'green', 'Nordeste': 'red', 'Sudeste': 'gray', 'Sul': 'blue', 'Centro-Oeste': 'black'}\n"
     ]
    }
   ],
   "source": [
    "import random # Importando a biblioteca random\n",
    "\n",
    "# Dicionário de cores aleatórias para as regiões\n",
    "regioesCores = {}\n",
    "\n",
    "# Cores disponíveis para escolha aleatória\n",
    "coresDisponiveis = ['red', 'blue', 'black', 'green', 'gray']\n",
    "\n",
    "# Iterando sobre as regiões e atribuindo cores aleatórias\n",
    "for regiao in regioes:\n",
    "  if coresDisponiveis:\n",
    "    cor = random.choice(coresDisponiveis)\n",
    "    regioesCores[regiao] = cor\n",
    "    coresDisponiveis.remove(cor)\n",
    "\n",
    "# Exibindo o dicionário de cores\n",
    "print(regioesCores)"
   ]
  },
  {
   "cell_type": "markdown",
   "metadata": {},
   "source": [
    "Análise de docentes negros por região"
   ]
  },
  {
   "cell_type": "code",
   "execution_count": 181,
   "metadata": {},
   "outputs": [
    {
     "ename": "ValueError",
     "evalue": "Could not interpret input 'NO_REGIAO_IES'",
     "output_type": "error",
     "traceback": [
      "\u001b[1;31m---------------------------------------------------------------------------\u001b[0m",
      "\u001b[1;31mValueError\u001b[0m                                Traceback (most recent call last)",
      "Cell \u001b[1;32mIn[181], line 34\u001b[0m\n\u001b[0;32m     30\u001b[0m dataAgrupado \u001b[39m=\u001b[39m ies_df\u001b[39m.\u001b[39mgroupby(\u001b[39m'\u001b[39m\u001b[39mNO_REGIAO_IES\u001b[39m\u001b[39m'\u001b[39m)[\u001b[39m'\u001b[39m\u001b[39mQT_TEC_TOTAL\u001b[39m\u001b[39m'\u001b[39m]\u001b[39m.\u001b[39msum()\n\u001b[0;32m     32\u001b[0m \u001b[39m# print(next(iter(regioesCores)))\u001b[39;00m\n\u001b[1;32m---> 34\u001b[0m sns\u001b[39m.\u001b[39;49mbarplot(data\u001b[39m=\u001b[39;49mdataAgrupado, x\u001b[39m=\u001b[39;49m\u001b[39m\"\u001b[39;49m\u001b[39mNO_REGIAO_IES\u001b[39;49m\u001b[39m\"\u001b[39;49m, y\u001b[39m=\u001b[39;49m\u001b[39m\"\u001b[39;49m\u001b[39mQT_TEC_TOTAL\u001b[39;49m\u001b[39m\"\u001b[39;49m) \u001b[39m# Plotando o gráfico de linhas\u001b[39;00m\n",
      "File \u001b[1;32mc:\\Users\\luan.mmluiz\\Documents\\Python310\\Lib\\site-packages\\seaborn\\categorical.py:2755\u001b[0m, in \u001b[0;36mbarplot\u001b[1;34m(data, x, y, hue, order, hue_order, estimator, errorbar, n_boot, units, seed, orient, color, palette, saturation, width, errcolor, errwidth, capsize, dodge, ci, ax, **kwargs)\u001b[0m\n\u001b[0;32m   2752\u001b[0m \u001b[39mif\u001b[39;00m estimator \u001b[39mis\u001b[39;00m \u001b[39mlen\u001b[39m:\n\u001b[0;32m   2753\u001b[0m     estimator \u001b[39m=\u001b[39m \u001b[39m\"\u001b[39m\u001b[39msize\u001b[39m\u001b[39m\"\u001b[39m\n\u001b[1;32m-> 2755\u001b[0m plotter \u001b[39m=\u001b[39m _BarPlotter(x, y, hue, data, order, hue_order,\n\u001b[0;32m   2756\u001b[0m                       estimator, errorbar, n_boot, units, seed,\n\u001b[0;32m   2757\u001b[0m                       orient, color, palette, saturation,\n\u001b[0;32m   2758\u001b[0m                       width, errcolor, errwidth, capsize, dodge)\n\u001b[0;32m   2760\u001b[0m \u001b[39mif\u001b[39;00m ax \u001b[39mis\u001b[39;00m \u001b[39mNone\u001b[39;00m:\n\u001b[0;32m   2761\u001b[0m     ax \u001b[39m=\u001b[39m plt\u001b[39m.\u001b[39mgca()\n",
      "File \u001b[1;32mc:\\Users\\luan.mmluiz\\Documents\\Python310\\Lib\\site-packages\\seaborn\\categorical.py:1530\u001b[0m, in \u001b[0;36m_BarPlotter.__init__\u001b[1;34m(self, x, y, hue, data, order, hue_order, estimator, errorbar, n_boot, units, seed, orient, color, palette, saturation, width, errcolor, errwidth, capsize, dodge)\u001b[0m\n\u001b[0;32m   1525\u001b[0m \u001b[39mdef\u001b[39;00m \u001b[39m__init__\u001b[39m(\u001b[39mself\u001b[39m, x, y, hue, data, order, hue_order,\n\u001b[0;32m   1526\u001b[0m              estimator, errorbar, n_boot, units, seed,\n\u001b[0;32m   1527\u001b[0m              orient, color, palette, saturation, width,\n\u001b[0;32m   1528\u001b[0m              errcolor, errwidth, capsize, dodge):\n\u001b[0;32m   1529\u001b[0m \u001b[39m    \u001b[39m\u001b[39m\"\"\"Initialize the plotter.\"\"\"\u001b[39;00m\n\u001b[1;32m-> 1530\u001b[0m     \u001b[39mself\u001b[39;49m\u001b[39m.\u001b[39;49mestablish_variables(x, y, hue, data, orient,\n\u001b[0;32m   1531\u001b[0m                              order, hue_order, units)\n\u001b[0;32m   1532\u001b[0m     \u001b[39mself\u001b[39m\u001b[39m.\u001b[39mestablish_colors(color, palette, saturation)\n\u001b[0;32m   1533\u001b[0m     \u001b[39mself\u001b[39m\u001b[39m.\u001b[39mestimate_statistic(estimator, errorbar, n_boot, seed)\n",
      "File \u001b[1;32mc:\\Users\\luan.mmluiz\\Documents\\Python310\\Lib\\site-packages\\seaborn\\categorical.py:541\u001b[0m, in \u001b[0;36m_CategoricalPlotter.establish_variables\u001b[1;34m(self, x, y, hue, data, orient, order, hue_order, units)\u001b[0m\n\u001b[0;32m    539\u001b[0m     \u001b[39mif\u001b[39;00m \u001b[39misinstance\u001b[39m(var, \u001b[39mstr\u001b[39m):\n\u001b[0;32m    540\u001b[0m         err \u001b[39m=\u001b[39m \u001b[39mf\u001b[39m\u001b[39m\"\u001b[39m\u001b[39mCould not interpret input \u001b[39m\u001b[39m'\u001b[39m\u001b[39m{\u001b[39;00mvar\u001b[39m}\u001b[39;00m\u001b[39m'\u001b[39m\u001b[39m\"\u001b[39m\n\u001b[1;32m--> 541\u001b[0m         \u001b[39mraise\u001b[39;00m \u001b[39mValueError\u001b[39;00m(err)\n\u001b[0;32m    543\u001b[0m \u001b[39m# Figure out the plotting orientation\u001b[39;00m\n\u001b[0;32m    544\u001b[0m orient \u001b[39m=\u001b[39m infer_orient(\n\u001b[0;32m    545\u001b[0m     x, y, orient, require_numeric\u001b[39m=\u001b[39m\u001b[39mself\u001b[39m\u001b[39m.\u001b[39mrequire_numeric\n\u001b[0;32m    546\u001b[0m )\n",
      "\u001b[1;31mValueError\u001b[0m: Could not interpret input 'NO_REGIAO_IES'"
     ]
    }
   ],
   "source": [
    "\"\"\" # Definindo tamanho do gráfico\n",
    "plt.figure(figsize=(15, 5))\n",
    "\n",
    "# Agrupar por região e somar a quantidade de técnicos\n",
    "dataAgrupado = ies_df.groupby('NO_REGIAO_IES')['QT_TEC_TOTAL'].sum()\n",
    "\n",
    "# Itera sobre cada região presente no dataframe filtrado\n",
    "for regiao, data in ies_df.groupby('NO_REGIAO_IES')['QT_TEC_TOTAL']:\n",
    "  # Plota o gráfico de barras\n",
    "  plt.plot(data.index, data.values, color=regioesCores[regiao])\n",
    "\n",
    "# Personalizando o gráfico\n",
    "plt.xlabel('Legenda na Esquerda')\n",
    "plt.ylabel('Legenda em Baixo')\n",
    "plt.title('Título')\n",
    "plt.legend()\n",
    "plt.grid(True)\n",
    "\n",
    "plt.show() \"\"\"\n",
    "\n",
    "\"\"\" # Definindo tamanho do gráfico\n",
    "plt.figure(figsize=(15, 5))\n",
    "\n",
    "# Agrupar por região e somar a quantidade de técnicos\n",
    "dataAgrupado = ies_df.groupby('NO_REGIAO_IES')['QT_TEC_TOTAL'].sum()\n",
    "\n",
    "# Itera sobre cada região presente no dataframe filtrado \"\"\"\n",
    "\n",
    "# Agrupar por região e somar a quantidade de técnicos\n",
    "dataAgrupado = ies_df.groupby('NO_REGIAO_IES')['QT_TEC_TOTAL'].sum()\n",
    "\n",
    "# print(next(iter(regioesCores)))\n",
    "\n",
    "# sns.barplot(data=dataAgrupado, x=\"NO_REGIAO_IES\", y=\"QT_TEC_TOTAL\") # Plotando o gráfico de linhas"
   ]
  }
 ],
 "metadata": {
  "kernelspec": {
   "display_name": "Python 3",
   "language": "python",
   "name": "python3"
  },
  "language_info": {
   "codemirror_mode": {
    "name": "ipython",
    "version": 3
   },
   "file_extension": ".py",
   "mimetype": "text/x-python",
   "name": "python",
   "nbconvert_exporter": "python",
   "pygments_lexer": "ipython3",
   "version": "3.11.5"
  },
  "orig_nbformat": 4
 },
 "nbformat": 4,
 "nbformat_minor": 2
}
